{
 "cells": [
  {
   "cell_type": "markdown",
   "id": "d1692e7a-2eec-4df4-8027-b298b2ad775e",
   "metadata": {},
   "source": [
    "Import packages:"
   ]
  },
  {
   "cell_type": "code",
   "execution_count": 2,
   "id": "d2d2593f-14e1-4879-a830-a6b5d0efe970",
   "metadata": {},
   "outputs": [],
   "source": [
    "import math\n",
    "import pandas as pd\n",
    "from scipy import constants"
   ]
  },
  {
   "cell_type": "markdown",
   "id": "d030b15b-3057-4f2e-878f-22d65381e962",
   "metadata": {},
   "source": [
    "Define universal constants:"
   ]
  },
  {
   "cell_type": "code",
   "execution_count": 3,
   "id": "cc477cde-9f7a-4114-9bd0-8adf27b3cc6f",
   "metadata": {},
   "outputs": [],
   "source": [
    "## General constants\n",
    "pi = constants.pi             # 3.141592653589793   print(constants.pi)\n",
    "h = constants.Planck          # 6.62607015e-34 (m^2)kg/s    print(constants.Planck)\n",
    "c = constants.speed_of_light  # 299792458.0 m/s   print(constants.speed_of_light)\n",
    "k = constants.Boltzmann       # 1.380649e-23  (m^2) kg (s^-2) (K^-1)    print(constants.Boltzmann)"
   ]
  },
  {
   "cell_type": "code",
   "execution_count": 4,
   "id": "122ec2fa-e3a0-4651-a1cf-8b1f5dc229aa",
   "metadata": {},
   "outputs": [],
   "source": [
    "## User defined values\n",
    "theta = 0  # zenith angle (a zenith angle of 0 degrees is when the sun is directly overhead and 90 degrees or greater is below the horizon)"
   ]
  },
  {
   "cell_type": "code",
   "execution_count": 8,
   "id": "26374e88-3b9f-442e-8e3d-5e930d7aca2b",
   "metadata": {},
   "outputs": [],
   "source": [
    "## import excel data\n",
    "df_transm = pd.read_excel(r'reflectivity.xlsx', sheet_name='transm')   # transmitance data from http://modtran.spectral.com/modtran_home#plot or https://webarchive.gemini.edu/20210519-sciops--instruments--mid-ir-resources--spectroscopic-calibrations/atmospheric-transmission-data.html\n",
    "df_em = pd.read_excel(r'emissivity.xlsx', sheet_name='emm_μm')          # emissivity data  print(df_em)\n",
    "df_ref = pd.read_excel(r'reflectivity.xlsx', sheet_name='refl_μm')       # reflectivity data  print(df_ref)\n",
    "#df_temp = pd.read_excel(r'C:\\Users\\Kousis\\PycharmProjects\\howtothink\\T_ambient.xlsx')       # ambient temperature data in K"
   ]
  },
  {
   "cell_type": "code",
   "execution_count": 9,
   "id": "274f1b61-cdc3-4a9b-9414-d63cd9673d22",
   "metadata": {},
   "outputs": [],
   "source": [
    "## create list\n",
    "em_list = df_em['Emissivity'].tolist()       # emissivity list\n",
    "ref_list = df_ref['Reflectivity'].tolist()   # reflectivity list\n",
    "transm_list = df_transm['transmitance'].tolist()   # transmitance list\n",
    "\n",
    "## wavelength lists\n",
    "lamda_list_ref = df_ref['wavelength'].tolist()   # reflectance wavelength list  print(lamda_list_ref )\n",
    "lamda_list_em = df_em['wavelength'].tolist()   # reflectance wavelength list  print(lamda_list)\n",
    "lamda_list_abs = df_ref['absoptivity'].tolist()   # reflectance wavelength list  print(lamda_list_ref )\n",
    "lamda_list_transm = df_transm['wavelength'].tolist()   # reflectance wavelength list  print(lamda_list)\n",
    "Tamb_list = [300,301,302,303,304,320]"
   ]
  },
  {
   "cell_type": "code",
   "execution_count": 10,
   "id": "5beeda92-43d2-41cf-b0fc-b941063dcf3a",
   "metadata": {},
   "outputs": [],
   "source": [
    "qatm_list = []\n",
    "eatm_list = []\n",
    "Ibb_list = []\n",
    "qatm = 0\n",
    "erad = 0\n",
    "eatm = 0\n",
    "Ibb = 0"
   ]
  },
  {
   "cell_type": "code",
   "execution_count": 13,
   "id": "cbb80899-7772-4851-b4bb-3fbc2f93f174",
   "metadata": {},
   "outputs": [
    {
     "name": "stdout",
     "output_type": "stream",
     "text": [
      "1305.6147689220086 2107.1024891999946 1294266.1898415328\n",
      "[393819692.14512825, 3260321165.170348, 11389495367.247496, 27950237927.13456, 56529086597.34924, 131874418108.84811, 198792900674.37717, 286608548614.0105, 399222899050.13403, 541006815124.7205, 716845351108.124, 1054995344870.77, 1304709786883.3586, 1595721623167.445, 1933167610541.7686, 2322751086604.421, 2770793287368.5166, 3560609288938.8877]\n"
     ]
    }
   ],
   "source": [
    "for tamb in Tamb_list: # iterate over the time series of T ambient\n",
    "\n",
    "    for i in em_list:\n",
    "        erad += i\n",
    "        # print(erad)\n",
    "    for j in transm_list:\n",
    "        eatm += 1 - j ** (1 / math.cos(theta))\n",
    "        # print(eatm)\n",
    "    for lamda in lamda_list_ref:\n",
    "        Ibb += ((2  * h * (c**2)) / lamda**5) * (1 / (math.e ** ((h * c) / (lamda * k * tamb)) - 1))\n",
    "        #print(lamda)\n",
    "    qatm = Ibb * erad * eatm\n",
    "    qatm_list.append(qatm)\n",
    "    #print(tamb, qatm)\n",
    "\n",
    "\n",
    "\n",
    "print(erad, eatm, Ibb)\n",
    "\n",
    "\n",
    "print(qatm_list)"
   ]
  },
  {
   "cell_type": "code",
   "execution_count": 17,
   "id": "42db85be-e470-414a-8def-a5090cabf8ae",
   "metadata": {},
   "outputs": [
    {
     "name": "stdout",
     "output_type": "stream",
     "text": [
      "    product_name\n",
      "0   3.938197e+08\n",
      "1   3.260321e+09\n",
      "2   1.138950e+10\n",
      "3   2.795024e+10\n",
      "4   5.652909e+10\n",
      "5   1.318744e+11\n",
      "6   1.987929e+11\n",
      "7   2.866085e+11\n",
      "8   3.992229e+11\n",
      "9   5.410068e+11\n",
      "10  7.168454e+11\n",
      "11  1.054995e+12\n",
      "12  1.304710e+12\n",
      "13  1.595722e+12\n",
      "14  1.933168e+12\n",
      "15  2.322751e+12\n",
      "16  2.770793e+12\n",
      "17  3.560609e+12\n"
     ]
    }
   ],
   "source": [
    "df = pd.DataFrame (qatm_list, columns = ['product_name'])\n",
    "print (df)\n",
    "\n",
    "df.to_excel(r'export_dataframe.xlsx', index=False)"
   ]
  },
  {
   "cell_type": "code",
   "execution_count": null,
   "id": "afbc4b01-2814-4d61-9ce8-a99f6f8b5d34",
   "metadata": {},
   "outputs": [],
   "source": []
  },
  {
   "cell_type": "code",
   "execution_count": null,
   "id": "934dc1d3-bcc3-493b-8b37-18b8988022bf",
   "metadata": {},
   "outputs": [],
   "source": []
  }
 ],
 "metadata": {
  "kernelspec": {
   "display_name": "anaconda-2022.05-py39",
   "language": "python",
   "name": "conda-env-anaconda-2022.05-py39-py"
  },
  "language_info": {
   "codemirror_mode": {
    "name": "ipython",
    "version": 3
   },
   "file_extension": ".py",
   "mimetype": "text/x-python",
   "name": "python",
   "nbconvert_exporter": "python",
   "pygments_lexer": "ipython3",
   "version": "3.9.12"
  }
 },
 "nbformat": 4,
 "nbformat_minor": 5
}
