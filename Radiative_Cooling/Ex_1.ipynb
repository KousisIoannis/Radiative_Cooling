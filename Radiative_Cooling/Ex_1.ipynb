{
 "cells": [
  {
   "cell_type": "markdown",
   "id": "fe1db7d8",
   "metadata": {},
   "source": [
    "<h1 style=\"font-size:3rem;color:orange;\">Radiative Cooling exercise</h1>"
   ]
  },
  {
   "cell_type": "markdown",
   "id": "3cfce3cc",
   "metadata": {},
   "source": [
    "# Modelling Daytime Radiative Cooling"
   ]
  },
  {
   "cell_type": "markdown",
   "id": "4cf43ebb",
   "metadata": {},
   "source": [
    "<img src=\"https://static.cambridge.org/content/id/urn%3Acambridge.org%3Aid%3Aarticle%3AS2329222920000185/resource/name/S2329222920000185_figAb.png?pub-status=live\">"
   ]
  },
  {
   "cell_type": "markdown",
   "id": "6262a07b",
   "metadata": {},
   "source": [
    "## 1st step"
   ]
  },
  {
   "cell_type": "code",
   "execution_count": 2,
   "id": "e50ceb5b",
   "metadata": {},
   "outputs": [
    {
     "name": "stdout",
     "output_type": "stream",
     "text": [
      "Hello World!\n"
     ]
    }
   ],
   "source": [
    "print(\"Hello World!\")"
   ]
  },
  {
   "cell_type": "markdown",
   "id": "24d537f8",
   "metadata": {},
   "source": [
    "## Insert a variable"
   ]
  },
  {
   "cell_type": "code",
   "execution_count": 3,
   "id": "0ef4f3fa",
   "metadata": {},
   "outputs": [
    {
     "name": "stdout",
     "output_type": "stream",
     "text": [
      "whats your nameff\n"
     ]
    }
   ],
   "source": [
    "person  = input(\"whats your name\")\n"
   ]
  },
  {
   "cell_type": "code",
   "execution_count": null,
   "id": "174b9dd0",
   "metadata": {},
   "outputs": [],
   "source": []
  }
 ],
 "metadata": {
  "kernelspec": {
   "display_name": "Python 3 (ipykernel)",
   "language": "python",
   "name": "python3"
  },
  "language_info": {
   "codemirror_mode": {
    "name": "ipython",
    "version": 3
   },
   "file_extension": ".py",
   "mimetype": "text/x-python",
   "name": "python",
   "nbconvert_exporter": "python",
   "pygments_lexer": "ipython3",
   "version": "3.9.13"
  }
 },
 "nbformat": 4,
 "nbformat_minor": 5
}
