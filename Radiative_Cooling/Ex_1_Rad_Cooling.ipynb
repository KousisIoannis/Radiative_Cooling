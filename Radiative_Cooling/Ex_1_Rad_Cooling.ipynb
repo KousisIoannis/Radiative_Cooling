{
 "cells": [
  {
   "cell_type": "markdown",
   "id": "3e06fd2f",
   "metadata": {},
   "source": [
    "<h1 style=\"font-size:3rem;color:orange;\">Radiative Cooling exercise</h1>"
   ]
  },
  {
   "cell_type": "markdown",
   "id": "c745bdee",
   "metadata": {},
   "source": [
    "# Modelling Daytime Radiative Cooling"
   ]
  },
  {
   "cell_type": "markdown",
   "id": "aea8c8a3",
   "metadata": {},
   "source": [
    "<img src=\"https://static.cambridge.org/content/id/urn%3Acambridge.org%3Aid%3Aarticle%3AS2329222920000185/resource/name/S2329222920000185_figAb.png?pub-status=live\">"
   ]
  },
  {
   "cell_type": "markdown",
   "id": "4f303057",
   "metadata": {},
   "source": [
    "## Imports"
   ]
  },
  {
   "cell_type": "code",
   "execution_count": null,
   "id": "aff1f045",
   "metadata": {},
   "outputs": [],
   "source": [
    "import pandas as pd\n",
    "import numpy as np\n",
    "from scipy.integrate import trapz\n",
    "from math import cos, sin, acos, radians"
   ]
  },
  {
   "cell_type": "markdown",
   "id": "3f9f8e56",
   "metadata": {},
   "source": [
    "## Constants\n"
   ]
  },
  {
   "cell_type": "code",
   "execution_count": null,
   "id": "a88473ca",
   "metadata": {},
   "outputs": [],
   "source": []
  },
  {
   "cell_type": "markdown",
   "id": "2039ccdf",
   "metadata": {},
   "source": [
    "## Read data from excel files"
   ]
  },
  {
   "cell_type": "code",
   "execution_count": null,
   "id": "9d610a18",
   "metadata": {},
   "outputs": [],
   "source": [
    "    # Load spectral reflectivity data from excel file\n",
    "    reflectivity_df = pd.read_excel(\"reflectivity_data.xlsx\")\n",
    "    reflectivity_df.set_index(\"Wavelength\", inplace=True)\n",
    "\n",
    "    # Load atmospheric transmittance data from excel file\n",
    "    transmittance_df = pd.read_excel(\"transmittance_data.xlsx\")\n",
    "    transmittance_df.set_index(\"Wavelength\", inplace=True)\n",
    "\n",
    "    # Load solar illumination data from excel file\n",
    "    illumination_df = pd.read_excel(\"illumination_data.xlsx\")\n",
    "    illumination_df.set_index(\"Wavelength\", inplace=True)\n",
    "    \n",
    "    # Load spectral emissivity data from excel file\n",
    "    emissivity_df = pd.read_excel(\"emissivity_data.xlsx\")\n",
    "    emissivity_df.set_index(\"Wavelength\", inplace=True)"
   ]
  },
  {
   "cell_type": "markdown",
   "id": "8f4f8b69",
   "metadata": {},
   "source": [
    "## Function that calculates incident solar power absorbed by the roof"
   ]
  },
  {
   "cell_type": "code",
   "execution_count": null,
   "id": "a94517c4",
   "metadata": {},
   "outputs": [],
   "source": [
    "def get_P_solar(wavelength):\n",
    "    \n",
    "    \n",
    "    "
   ]
  },
  {
   "cell_type": "markdown",
   "id": "4a77980e",
   "metadata": {},
   "source": [
    "## Function that calculates power radiated from the roof"
   ]
  },
  {
   "cell_type": "code",
   "execution_count": null,
   "id": "ab9b3f2a",
   "metadata": {},
   "outputs": [],
   "source": [
    "def get_P_rad(wavelength, Troof):\n",
    "    \n",
    "    \n",
    "    "
   ]
  },
  {
   "cell_type": "markdown",
   "id": "95df2219",
   "metadata": {},
   "source": [
    "## Function that calculates the absorbed power due to the incident atmospheric thermal radiation"
   ]
  },
  {
   "cell_type": "code",
   "execution_count": null,
   "id": "d3f81f81",
   "metadata": {},
   "outputs": [],
   "source": [
    "def get_P_amb(wavelength, Tsky):\n",
    "    \n",
    "    \n",
    "    "
   ]
  },
  {
   "cell_type": "markdown",
   "id": "a4a4523b",
   "metadata": {},
   "source": [
    "## Function that calculates power lost due to convection and conduction"
   ]
  },
  {
   "cell_type": "code",
   "execution_count": null,
   "id": "270404ce",
   "metadata": {},
   "outputs": [],
   "source": [
    "def get_P_loss(Troof, Tsky):\n",
    "    \n",
    "    "
   ]
  },
  {
   "cell_type": "markdown",
   "id": "5fc2362a",
   "metadata": {},
   "source": [
    "## Function that calculates the surface temperature for each timestep"
   ]
  },
  {
   "cell_type": "code",
   "execution_count": null,
   "id": "6f8361ee",
   "metadata": {},
   "outputs": [],
   "source": [
    "def get_temperature(Prad,Psolar, Pamb, Ploss):\n",
    "    \n",
    "    \n",
    "    T_s = T_sky + (Q_solar + Q_lw - Q_loss + Q_cond + Q_conv) / (m * C_p)"
   ]
  }
 ],
 "metadata": {
  "kernelspec": {
   "display_name": "Python 3 (ipykernel)",
   "language": "python",
   "name": "python3"
  },
  "language_info": {
   "codemirror_mode": {
    "name": "ipython",
    "version": 3
   },
   "file_extension": ".py",
   "mimetype": "text/x-python",
   "name": "python",
   "nbconvert_exporter": "python",
   "pygments_lexer": "ipython3",
   "version": "3.9.13"
  }
 },
 "nbformat": 4,
 "nbformat_minor": 5
}
